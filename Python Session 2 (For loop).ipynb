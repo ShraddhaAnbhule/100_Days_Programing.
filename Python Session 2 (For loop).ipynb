{
 "cells": [
  {
   "cell_type": "markdown",
   "id": "de8444a4",
   "metadata": {},
   "source": [
    "# For Loop"
   ]
  },
  {
   "cell_type": "code",
   "execution_count": 1,
   "id": "acaffa7f",
   "metadata": {},
   "outputs": [
    {
     "name": "stdout",
     "output_type": "stream",
     "text": [
      "python\n",
      "python\n",
      "python\n",
      "python\n",
      "python\n"
     ]
    }
   ],
   "source": [
    "for x in range(5):\n",
    "    print(\"python\")\n",
    "    \n"
   ]
  },
  {
   "cell_type": "code",
   "execution_count": 2,
   "id": "9eb6328e",
   "metadata": {},
   "outputs": [
    {
     "name": "stdout",
     "output_type": "stream",
     "text": [
      "python 0\n",
      "python 1\n",
      "python 2\n",
      "python 3\n",
      "python 4\n"
     ]
    }
   ],
   "source": [
    "for x in range(5):\n",
    "    print(\"python\",x)"
   ]
  },
  {
   "cell_type": "code",
   "execution_count": 3,
   "id": "1ba6a78c",
   "metadata": {
    "scrolled": true
   },
   "outputs": [
    {
     "name": "stdout",
     "output_type": "stream",
     "text": [
      "python 2\n",
      "python 3\n",
      "python 4\n"
     ]
    }
   ],
   "source": [
    "for x in range(2,5):\n",
    "    print(\"python\",x)"
   ]
  },
  {
   "cell_type": "code",
   "execution_count": 4,
   "id": "476e4f8b",
   "metadata": {},
   "outputs": [
    {
     "name": "stdout",
     "output_type": "stream",
     "text": [
      "STRING: \n",
      "STRING: \n"
     ]
    }
   ],
   "source": [
    "for x in \"20\":\n",
    " print(\"STRING: \")"
   ]
  },
  {
   "cell_type": "code",
   "execution_count": 5,
   "id": "138b65de",
   "metadata": {},
   "outputs": [
    {
     "name": "stdout",
     "output_type": "stream",
     "text": [
      "I love python languag:  p\n",
      "I love python languag:  y\n",
      "I love python languag:  t\n",
      "I love python languag:  h\n",
      "I love python languag:  o\n",
      "I love python languag:  n\n"
     ]
    }
   ],
   "source": [
    "lang=\"python\"\n",
    "for x in lang:\n",
    "    print(\"I love python languag: \", x)"
   ]
  },
  {
   "cell_type": "code",
   "execution_count": 6,
   "id": "1fe05254",
   "metadata": {},
   "outputs": [
    {
     "name": "stdout",
     "output_type": "stream",
     "text": [
      "Enter the Number of a: 56\n",
      "Enter the Number of b: 20\n",
      "Addion:   76\n",
      "Enter the Number of a: 10\n",
      "Enter the Number of b: 546\n",
      "Addion:   556\n",
      "Enter the Number of a: 34\n",
      "Enter the Number of b: 446\n",
      "Addion:   480\n"
     ]
    }
   ],
   "source": [
    "for x in range(3):\n",
    "    a=int(input(\"Enter the Number of a: \"))\n",
    "    b=int(input(\"Enter the Number of b: \"))\n",
    "    c=a+b\n",
    "    print(\"Addion:  \",c)\n",
    "    "
   ]
  },
  {
   "cell_type": "code",
   "execution_count": 7,
   "id": "307bdab6",
   "metadata": {},
   "outputs": [
    {
     "name": "stdout",
     "output_type": "stream",
     "text": [
      "Data Science:  S\n",
      "Data Science:  C\n",
      "Data Science:  I\n",
      "Data Science:  E\n",
      "Data Science:  N\n",
      "Data Science:  C\n",
      "Data Science:  E\n"
     ]
    }
   ],
   "source": [
    "for x in \"SCIENCE\":\n",
    " print(\"Data Science: \",x)"
   ]
  },
  {
   "cell_type": "code",
   "execution_count": 8,
   "id": "4cf53056",
   "metadata": {},
   "outputs": [
    {
     "name": "stdout",
     "output_type": "stream",
     "text": [
      "I am in:  P\n",
      "I am in:  u\n",
      "I am in:  n\n",
      "I am in:  e\n"
     ]
    }
   ],
   "source": [
    "ab=[\"Pune\",\"Nashik\",\"Mumbai\"]\n",
    "for x in ab[0]:\n",
    " print(\"I am in: \",x)"
   ]
  },
  {
   "cell_type": "code",
   "execution_count": 9,
   "id": "e95bac72",
   "metadata": {},
   "outputs": [
    {
     "name": "stdout",
     "output_type": "stream",
     "text": [
      "I am in:  M\n",
      "I am in:  u\n",
      "I am in:  m\n",
      "I am in:  b\n",
      "I am in:  a\n",
      "I am in:  i\n"
     ]
    }
   ],
   "source": [
    "ab=[\"Pune\",\"Nashik\",\"Mumbai\"]\n",
    "for x in ab[2]:\n",
    " print(\"I am in: \",x)"
   ]
  },
  {
   "cell_type": "code",
   "execution_count": 10,
   "id": "96549e70",
   "metadata": {},
   "outputs": [
    {
     "name": "stdout",
     "output_type": "stream",
     "text": [
      "Machine Learning  I am : Pune P\n",
      "Machine Learning  I am : Pune u\n",
      "Machine Learning  I am : Pune n\n",
      "Machine Learning  I am : Pune e\n",
      "Machine Learning  I am : Nashik N\n",
      "Machine Learning  I am : Nashik a\n",
      "Machine Learning  I am : Nashik s\n",
      "Machine Learning  I am : Nashik h\n",
      "Machine Learning  I am : Nashik i\n",
      "Machine Learning  I am : Nashik k\n",
      "Machine Learning  I am : Mumbai M\n",
      "Machine Learning  I am : Mumbai u\n",
      "Machine Learning  I am : Mumbai m\n",
      "Machine Learning  I am : Mumbai b\n",
      "Machine Learning  I am : Mumbai a\n",
      "Machine Learning  I am : Mumbai i\n"
     ]
    }
   ],
   "source": [
    "ab=[\"Pune\",\"Nashik\",\"Mumbai\"]\n",
    "for x in ab:\n",
    "    for y in x:\n",
    "        print(\"Machine Learning \",\"I am :\",x,y)"
   ]
  },
  {
   "cell_type": "code",
   "execution_count": 11,
   "id": "ee08b2dd",
   "metadata": {},
   "outputs": [
    {
     "name": "stdout",
     "output_type": "stream",
     "text": [
      "Enter the Name: ABCD\n",
      "ABCD\n",
      "The word:  A\n",
      "The word:  B\n",
      "The word:  C\n",
      "The word:  D\n",
      "Enter the Name: XYZ\n",
      "XYZ\n",
      "The word:  X\n",
      "The word:  Y\n",
      "The word:  Z\n"
     ]
    }
   ],
   "source": [
    "for x in range(2):\n",
    "    name=input(\"Enter the Name: \")\n",
    "    print(name)\n",
    "    for x1 in name:\n",
    "        print(\"The word: \",x1)\n",
    "    "
   ]
  },
  {
   "cell_type": "code",
   "execution_count": 12,
   "id": "95a386a5",
   "metadata": {},
   "outputs": [
    {
     "name": "stdout",
     "output_type": "stream",
     "text": [
      "enter the value:546\n",
      "0 :-   936084.24\n",
      "-----------\n",
      "enter the value:68\n",
      "1 :-   14519.36\n",
      "-----------\n",
      "enter the value:939\n",
      "2 :-   2768603.94\n",
      "-----------\n",
      "enter the value:465\n",
      "3 :-   678946.5000000001\n",
      "-----------\n",
      "enter the value:356\n",
      "4 :-   397951.04000000004\n",
      "-----------\n"
     ]
    }
   ],
   "source": [
    "for x in range(5):\n",
    "    p=3.14\n",
    "    r=int(input(\"enter the value:\"))\n",
    "    area=p*r*r\n",
    "    print(x,\":-  \",area)\n",
    "    print(\"-----------\")"
   ]
  },
  {
   "cell_type": "code",
   "execution_count": null,
   "id": "8a471530",
   "metadata": {},
   "outputs": [],
   "source": []
  },
  {
   "cell_type": "code",
   "execution_count": null,
   "id": "0a622661",
   "metadata": {},
   "outputs": [],
   "source": []
  },
  {
   "cell_type": "code",
   "execution_count": null,
   "id": "4c3cd461",
   "metadata": {},
   "outputs": [],
   "source": []
  }
 ],
 "metadata": {
  "kernelspec": {
   "display_name": "Python 3 (ipykernel)",
   "language": "python",
   "name": "python3"
  },
  "language_info": {
   "codemirror_mode": {
    "name": "ipython",
    "version": 3
   },
   "file_extension": ".py",
   "mimetype": "text/x-python",
   "name": "python",
   "nbconvert_exporter": "python",
   "pygments_lexer": "ipython3",
   "version": "3.9.12"
  }
 },
 "nbformat": 4,
 "nbformat_minor": 5
}
