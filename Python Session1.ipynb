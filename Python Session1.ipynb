{
 "cells": [
  {
   "cell_type": "markdown",
   "id": "01c449f9",
   "metadata": {},
   "source": [
    "## **Python Arithmetic Operators..** "
   ]
  },
  {
   "cell_type": "markdown",
   "id": "779eaf2d",
   "metadata": {},
   "source": [
    "##### 1) Addition"
   ]
  },
  {
   "cell_type": "code",
   "execution_count": 1,
   "id": "4a558ca0",
   "metadata": {},
   "outputs": [
    {
     "name": "stdout",
     "output_type": "stream",
     "text": [
      "30\n"
     ]
    }
   ],
   "source": [
    "a=10\n",
    "b=20\n",
    "print(a+b)"
   ]
  },
  {
   "cell_type": "code",
   "execution_count": 2,
   "id": "4309c881",
   "metadata": {},
   "outputs": [
    {
     "name": "stdout",
     "output_type": "stream",
     "text": [
      "145.2\n"
     ]
    }
   ],
   "source": [
    "x=89.0\n",
    "y=56.2\n",
    "z=x+y\n",
    "print(z)"
   ]
  },
  {
   "cell_type": "code",
   "execution_count": 3,
   "id": "2330ce8b",
   "metadata": {},
   "outputs": [
    {
     "name": "stdout",
     "output_type": "stream",
     "text": [
      "Enter the Numbers: 67\n",
      "Enter the Numbers: 66\n",
      "Addition is:  133\n"
     ]
    }
   ],
   "source": [
    "p=int(input(\"Enter the Numbers: \"))\n",
    "q=int(input(\"Enter the Numbers: \"))\n",
    "print(\"Addition is: \",p+q)\n"
   ]
  },
  {
   "cell_type": "markdown",
   "id": "d54994dd",
   "metadata": {},
   "source": [
    "#### 2) Substraction\n"
   ]
  },
  {
   "cell_type": "code",
   "execution_count": 4,
   "id": "acf4fdce",
   "metadata": {},
   "outputs": [
    {
     "name": "stdout",
     "output_type": "stream",
     "text": [
      "-10\n"
     ]
    }
   ],
   "source": [
    "a=10\n",
    "b=20\n",
    "print(a-b)"
   ]
  },
  {
   "cell_type": "code",
   "execution_count": 5,
   "id": "b57f94d1",
   "metadata": {},
   "outputs": [
    {
     "name": "stdout",
     "output_type": "stream",
     "text": [
      "33\n"
     ]
    }
   ],
   "source": [
    "x=89\n",
    "y=56\n",
    "z=x-y\n",
    "print(z)"
   ]
  },
  {
   "cell_type": "code",
   "execution_count": 6,
   "id": "63e40216",
   "metadata": {},
   "outputs": [
    {
     "name": "stdout",
     "output_type": "stream",
     "text": [
      "Enter the Numbers: 45\n",
      "Enter the Numbers: 6\n",
      "Substraction is:  39\n"
     ]
    }
   ],
   "source": [
    "p=int(input(\"Enter the Numbers: \"))\n",
    "q=int(input(\"Enter the Numbers: \"))\n",
    "print(\"Substraction is: \",p-q)"
   ]
  },
  {
   "cell_type": "markdown",
   "id": "9294a59e",
   "metadata": {},
   "source": [
    "#### 3) Multiplication"
   ]
  },
  {
   "cell_type": "code",
   "execution_count": 7,
   "id": "87b8572c",
   "metadata": {},
   "outputs": [
    {
     "name": "stdout",
     "output_type": "stream",
     "text": [
      "200\n"
     ]
    }
   ],
   "source": [
    "a=10\n",
    "b=20\n",
    "print(a*b)"
   ]
  },
  {
   "cell_type": "code",
   "execution_count": 8,
   "id": "2b785fd2",
   "metadata": {},
   "outputs": [
    {
     "name": "stdout",
     "output_type": "stream",
     "text": [
      "445\n"
     ]
    }
   ],
   "source": [
    "x=89\n",
    "y=5\n",
    "z=x*y\n",
    "print(z)"
   ]
  },
  {
   "cell_type": "code",
   "execution_count": 9,
   "id": "c8c087e7",
   "metadata": {
    "scrolled": true
   },
   "outputs": [
    {
     "name": "stdout",
     "output_type": "stream",
     "text": [
      "Enter the Numbers: 45\n",
      "Enter the Numbers: 6\n",
      "Multiplication is:  270\n"
     ]
    }
   ],
   "source": [
    "p=int(input(\"Enter the Numbers: \"))\n",
    "q=int(input(\"Enter the Numbers: \"))\n",
    "print(\"Multiplication is: \",p*q)"
   ]
  },
  {
   "cell_type": "markdown",
   "id": "2f2eaa76",
   "metadata": {},
   "source": [
    "#### 4) Division\n"
   ]
  },
  {
   "cell_type": "code",
   "execution_count": 10,
   "id": "1c07746e",
   "metadata": {},
   "outputs": [
    {
     "name": "stdout",
     "output_type": "stream",
     "text": [
      "0.5\n"
     ]
    }
   ],
   "source": [
    "a=10\n",
    "b=20\n",
    "print(a/b)"
   ]
  },
  {
   "cell_type": "code",
   "execution_count": 11,
   "id": "49771b05",
   "metadata": {},
   "outputs": [
    {
     "name": "stdout",
     "output_type": "stream",
     "text": [
      "0.5\n"
     ]
    }
   ],
   "source": [
    "a=10\n",
    "b=20\n",
    "c=a/b\n",
    "print(c)"
   ]
  },
  {
   "cell_type": "code",
   "execution_count": 12,
   "id": "1151313e",
   "metadata": {},
   "outputs": [
    {
     "name": "stdout",
     "output_type": "stream",
     "text": [
      "Enter the Numbers: 334\n",
      "Enter the Numbers: 4\n",
      "Division is:  83.5\n"
     ]
    }
   ],
   "source": [
    "p=int(input(\"Enter the Numbers: \"))\n",
    "q=int(input(\"Enter the Numbers: \"))\n",
    "print(\"Division is: \",p/q)\n"
   ]
  },
  {
   "cell_type": "code",
   "execution_count": 13,
   "id": "92ffe4fa",
   "metadata": {},
   "outputs": [
    {
     "name": "stdout",
     "output_type": "stream",
     "text": [
      "<class 'float'>\n"
     ]
    }
   ],
   "source": [
    "print(type(p/q))"
   ]
  },
  {
   "cell_type": "markdown",
   "id": "379102ee",
   "metadata": {},
   "source": [
    "#### 5) Modulus\n"
   ]
  },
  {
   "cell_type": "code",
   "execution_count": 14,
   "id": "8e77a00c",
   "metadata": {},
   "outputs": [
    {
     "name": "stdout",
     "output_type": "stream",
     "text": [
      "10\n"
     ]
    }
   ],
   "source": [
    "a=10\n",
    "b=20\n",
    "print(a%b)\n"
   ]
  },
  {
   "cell_type": "code",
   "execution_count": 15,
   "id": "e5071e0b",
   "metadata": {},
   "outputs": [
    {
     "name": "stdout",
     "output_type": "stream",
     "text": [
      "33\n"
     ]
    }
   ],
   "source": [
    "x=89\n",
    "y=56\n",
    "z=x%y\n",
    "print(z)"
   ]
  },
  {
   "cell_type": "code",
   "execution_count": 16,
   "id": "303bd79a",
   "metadata": {},
   "outputs": [
    {
     "name": "stdout",
     "output_type": "stream",
     "text": [
      "Enter the Numbers: 34\n",
      "Enter the Numbers: 43\n",
      "Modulus is:  34\n"
     ]
    }
   ],
   "source": [
    "p=int(input(\"Enter the Numbers: \"))\n",
    "q=int(input(\"Enter the Numbers: \"))\n",
    "print(\"Modulus is: \",p%q)\n"
   ]
  },
  {
   "cell_type": "markdown",
   "id": "c284aa9c",
   "metadata": {},
   "source": [
    "#### 6) Exponentiation\n"
   ]
  },
  {
   "cell_type": "code",
   "execution_count": 17,
   "id": "aef6506c",
   "metadata": {},
   "outputs": [
    {
     "name": "stdout",
     "output_type": "stream",
     "text": [
      "1600\n"
     ]
    }
   ],
   "source": [
    "a=40\n",
    "b=2\n",
    "print(a**b)\n"
   ]
  },
  {
   "cell_type": "code",
   "execution_count": 18,
   "id": "a6614208",
   "metadata": {},
   "outputs": [
    {
     "name": "stdout",
     "output_type": "stream",
     "text": [
      "512\n"
     ]
    }
   ],
   "source": [
    "x=8\n",
    "y=3\n",
    "z=x**y\n",
    "print(z)"
   ]
  },
  {
   "cell_type": "code",
   "execution_count": 19,
   "id": "cddf5bfa",
   "metadata": {},
   "outputs": [
    {
     "name": "stdout",
     "output_type": "stream",
     "text": [
      "Enter the Numbers: 34\n",
      "Enter the Numbers: 3\n",
      "Exponentiation is:  39304\n"
     ]
    }
   ],
   "source": [
    "p=int(input(\"Enter the Numbers: \"))\n",
    "q=int(input(\"Enter the Numbers: \"))\n",
    "print(\"Exponentiation is: \",p**q)\n"
   ]
  },
  {
   "cell_type": "markdown",
   "id": "cf057509",
   "metadata": {},
   "source": [
    "#### 7) Floor Division\n"
   ]
  },
  {
   "cell_type": "code",
   "execution_count": 20,
   "id": "bc093db2",
   "metadata": {},
   "outputs": [
    {
     "name": "stdout",
     "output_type": "stream",
     "text": [
      "0\n"
     ]
    }
   ],
   "source": [
    "a=10\n",
    "b=20\n",
    "print(a//b)"
   ]
  },
  {
   "cell_type": "code",
   "execution_count": 21,
   "id": "3e16cabf",
   "metadata": {},
   "outputs": [
    {
     "name": "stdout",
     "output_type": "stream",
     "text": [
      "20.0\n",
      "<class 'float'>\n"
     ]
    }
   ],
   "source": [
    "p=60.0\n",
    "q=3.0\n",
    "r=p//q\n",
    "print(r)\n",
    "print(type(r))"
   ]
  },
  {
   "cell_type": "code",
   "execution_count": 22,
   "id": "969d843a",
   "metadata": {},
   "outputs": [
    {
     "name": "stdout",
     "output_type": "stream",
     "text": [
      "Enter the Numbers: 34\n",
      "Enter the Numbers: 3\n",
      "Floor Division is:  11\n"
     ]
    }
   ],
   "source": [
    "p=int(input(\"Enter the Numbers: \"))\n",
    "q=int(input(\"Enter the Numbers: \"))\n",
    "print(\"Floor Division is: \",p//q)\n"
   ]
  },
  {
   "cell_type": "code",
   "execution_count": 23,
   "id": "f9897909",
   "metadata": {},
   "outputs": [
    {
     "name": "stdout",
     "output_type": "stream",
     "text": [
      "False\n"
     ]
    }
   ],
   "source": [
    "print(bool(0))"
   ]
  },
  {
   "cell_type": "code",
   "execution_count": 24,
   "id": "7e9be2f4",
   "metadata": {},
   "outputs": [
    {
     "name": "stdout",
     "output_type": "stream",
     "text": [
      "True\n"
     ]
    }
   ],
   "source": [
    "print(bool(1))"
   ]
  },
  {
   "cell_type": "markdown",
   "id": "97103abf",
   "metadata": {},
   "source": [
    "# Examples"
   ]
  },
  {
   "cell_type": "code",
   "execution_count": 29,
   "id": "1ef3006d",
   "metadata": {},
   "outputs": [
    {
     "name": "stdout",
     "output_type": "stream",
     "text": [
      "Addition is: 114\n",
      "------------------\n",
      "Substracton is: 64\n",
      "------------------\n",
      "Multiplication is: 2225\n",
      "------------------\n",
      "Division is: 3.56\n",
      "------------------\n"
     ]
    }
   ],
   "source": [
    "x = 89\n",
    "y = 25\n",
    "print(\"Addition is:\",x+y)\n",
    "print(\"------------------\")\n",
    "print(\"Substracton is:\",x-y)\n",
    "print(\"------------------\")\n",
    "print(\"Multiplication is:\",x*y)\n",
    "print(\"------------------\")\n",
    "print(\"Division is:\",x/y)\n",
    "print(\"------------------\")"
   ]
  },
  {
   "cell_type": "code",
   "execution_count": 32,
   "id": "3b148db7",
   "metadata": {},
   "outputs": [
    {
     "name": "stdout",
     "output_type": "stream",
     "text": [
      "Enter value_1:45\n",
      "Enter value_2:65\n",
      "Enter value_3:8\n",
      "Multiplication: 2925 ..... Substraction: -37 ..... Division: 8.125\n"
     ]
    }
   ],
   "source": [
    "x = int(input(\"Enter value_1:\"))\n",
    "y = int(input(\"Enter value_2:\"))\n",
    "z = int(input(\"Enter value_3:\"))\n",
    "a = x*y\n",
    "b = z-x\n",
    "c = y/z\n",
    "print(\"Multiplication:\",a,\".....\",\"Substraction:\",b,\".....\",\"Division:\",c)"
   ]
  },
  {
   "cell_type": "code",
   "execution_count": null,
   "id": "3f3436de",
   "metadata": {},
   "outputs": [],
   "source": []
  }
 ],
 "metadata": {
  "kernelspec": {
   "display_name": "Python 3 (ipykernel)",
   "language": "python",
   "name": "python3"
  },
  "language_info": {
   "codemirror_mode": {
    "name": "ipython",
    "version": 3
   },
   "file_extension": ".py",
   "mimetype": "text/x-python",
   "name": "python",
   "nbconvert_exporter": "python",
   "pygments_lexer": "ipython3",
   "version": "3.9.12"
  }
 },
 "nbformat": 4,
 "nbformat_minor": 5
}
