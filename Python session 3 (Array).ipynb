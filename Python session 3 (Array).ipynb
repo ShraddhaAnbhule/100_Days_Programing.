{
 "cells": [
  {
   "cell_type": "markdown",
   "id": "dba5aaef",
   "metadata": {},
   "source": [
    "# Working with Array"
   ]
  },
  {
   "cell_type": "markdown",
   "id": "868fb932",
   "metadata": {},
   "source": [
    "## 1.  List [     ]"
   ]
  },
  {
   "cell_type": "markdown",
   "id": "fa1f8ed0",
   "metadata": {},
   "source": [
    "   ######              **Lists are used to store multiple items in a single variable**"
   ]
  },
  {
   "cell_type": "code",
   "execution_count": 1,
   "id": "4d94b1f0",
   "metadata": {},
   "outputs": [
    {
     "name": "stdout",
     "output_type": "stream",
     "text": [
      "['Apple', 'Mango', 'Banana', 'stoberry', 'Mango']\n",
      "<class 'list'>\n",
      "5\n"
     ]
    }
   ],
   "source": [
    " # least allows Dublicate Items.\n",
    "fruits=['Apple','Mango','Banana','stoberry','Mango']\n",
    "print(fruits) \n",
    "print(type(fruits))\n",
    "print(len(fruits))"
   ]
  },
  {
   "cell_type": "code",
   "execution_count": 2,
   "id": "63166e16",
   "metadata": {},
   "outputs": [
    {
     "name": "stdout",
     "output_type": "stream",
     "text": [
      "['Apple', 'Mango', 'Banana', 'stoberry']\n"
     ]
    }
   ],
   "source": [
    "# This is index & Oder\n",
    "fruits=['Apple','Mango','Banana','stoberry']\n",
    "print(fruits)"
   ]
  },
  {
   "cell_type": "code",
   "execution_count": 3,
   "id": "7dba4126",
   "metadata": {},
   "outputs": [
    {
     "name": "stdout",
     "output_type": "stream",
     "text": [
      "['Apple', 'Mango', 'Banana', 'stoberry', 'Cherry']\n"
     ]
    }
   ],
   "source": [
    "# changable\n",
    "fruits=['Apple','Mango','Banana','stoberry']\n",
    "fruits.append(\"Cherry\")\n",
    "print(fruits)"
   ]
  },
  {
   "cell_type": "code",
   "execution_count": 4,
   "id": "bb0f0a96",
   "metadata": {},
   "outputs": [
    {
     "name": "stdout",
     "output_type": "stream",
     "text": [
      "Apple\n"
     ]
    }
   ],
   "source": [
    "print(fruits[0])"
   ]
  },
  {
   "cell_type": "code",
   "execution_count": 5,
   "id": "8c3a229e",
   "metadata": {},
   "outputs": [
    {
     "name": "stdout",
     "output_type": "stream",
     "text": [
      "['stoberry', 'Cherry']\n"
     ]
    }
   ],
   "source": [
    "print(fruits[-2:])"
   ]
  },
  {
   "cell_type": "code",
   "execution_count": 6,
   "id": "93bf9c4c",
   "metadata": {},
   "outputs": [
    {
     "name": "stdout",
     "output_type": "stream",
     "text": [
      "Cherry\n"
     ]
    }
   ],
   "source": [
    "print(fruits[-1])"
   ]
  },
  {
   "cell_type": "code",
   "execution_count": 7,
   "id": "8bef4d8e",
   "metadata": {},
   "outputs": [
    {
     "name": "stdout",
     "output_type": "stream",
     "text": [
      "['Mango', 'Banana', 'stoberry']\n"
     ]
    }
   ],
   "source": [
    "print(fruits[1:4])"
   ]
  },
  {
   "cell_type": "code",
   "execution_count": null,
   "id": "0c210f06",
   "metadata": {},
   "outputs": [],
   "source": []
  },
  {
   "cell_type": "markdown",
   "id": "7349692f",
   "metadata": {},
   "source": [
    "## 2. Tuples(      )"
   ]
  },
  {
   "cell_type": "markdown",
   "id": "4d8d0070",
   "metadata": {},
   "source": [
    " ######              **Tuples(  ) are used to store multiple items in a single variable**"
   ]
  },
  {
   "cell_type": "code",
   "execution_count": 8,
   "id": "f62a282a",
   "metadata": {},
   "outputs": [
    {
     "name": "stdout",
     "output_type": "stream",
     "text": [
      "('pooja', 'radha', 'priya', 'priti', 'rashmi')\n",
      "<class 'tuple'>\n",
      "5\n"
     ]
    }
   ],
   "source": [
    "ab=tuple()\n",
    "ab=(\"pooja\",\"radha\",\"priya\",\"priti\",\"rashmi\")\n",
    "print(ab)\n",
    "print(type(ab))\n",
    "print(len(ab))"
   ]
  },
  {
   "cell_type": "code",
   "execution_count": 9,
   "id": "801d7bcd",
   "metadata": {},
   "outputs": [
    {
     "name": "stdout",
     "output_type": "stream",
     "text": [
      "('pooja', 'radha', 'priya', 'priti', 'rashmi', 'radha')\n"
     ]
    }
   ],
   "source": [
    " # Tuples allows Dublicate Items.\n",
    "ab=(\"pooja\",\"radha\",\"priya\",\"priti\",\"rashmi\",\"radha\")\n",
    "print(ab)"
   ]
  },
  {
   "cell_type": "code",
   "execution_count": 10,
   "id": "13d37acc",
   "metadata": {},
   "outputs": [
    {
     "name": "stdout",
     "output_type": "stream",
     "text": [
      "('pooja', 'radha', 'priya', 'priti', 'rashmi')\n"
     ]
    }
   ],
   "source": [
    "# This is index & Oder\n",
    "ab=(\"pooja\",\"radha\",\"priya\",\"priti\",\"rashmi\")\n",
    "print(ab)"
   ]
  },
  {
   "cell_type": "code",
   "execution_count": 11,
   "id": "7b3510dd",
   "metadata": {},
   "outputs": [
    {
     "ename": "AttributeError",
     "evalue": "'tuple' object has no attribute 'append'",
     "output_type": "error",
     "traceback": [
      "\u001b[1;31m---------------------------------------------------------------------------\u001b[0m",
      "\u001b[1;31mAttributeError\u001b[0m                            Traceback (most recent call last)",
      "Input \u001b[1;32mIn [11]\u001b[0m, in \u001b[0;36m<cell line: 3>\u001b[1;34m()\u001b[0m\n\u001b[0;32m      1\u001b[0m \u001b[38;5;66;03m# Unchngable\u001b[39;00m\n\u001b[0;32m      2\u001b[0m ab\u001b[38;5;241m=\u001b[39m(\u001b[38;5;124m\"\u001b[39m\u001b[38;5;124mpooja\u001b[39m\u001b[38;5;124m\"\u001b[39m,\u001b[38;5;124m\"\u001b[39m\u001b[38;5;124mradha\u001b[39m\u001b[38;5;124m\"\u001b[39m,\u001b[38;5;124m\"\u001b[39m\u001b[38;5;124mpriya\u001b[39m\u001b[38;5;124m\"\u001b[39m,\u001b[38;5;124m\"\u001b[39m\u001b[38;5;124mpriti\u001b[39m\u001b[38;5;124m\"\u001b[39m,\u001b[38;5;124m\"\u001b[39m\u001b[38;5;124mrashmi\u001b[39m\u001b[38;5;124m\"\u001b[39m)\n\u001b[1;32m----> 3\u001b[0m \u001b[43mab\u001b[49m\u001b[38;5;241;43m.\u001b[39;49m\u001b[43mappend\u001b[49m(\u001b[38;5;124m\"\u001b[39m\u001b[38;5;124mshraddha\u001b[39m\u001b[38;5;124m\"\u001b[39m)\n\u001b[0;32m      4\u001b[0m \u001b[38;5;28mprint\u001b[39m(ab)\n",
      "\u001b[1;31mAttributeError\u001b[0m: 'tuple' object has no attribute 'append'"
     ]
    }
   ],
   "source": [
    "# Unchngable\n",
    "ab=(\"pooja\",\"radha\",\"priya\",\"priti\",\"rashmi\")\n",
    "ab.append(\"shraddha\")\n",
    "print(ab)"
   ]
  },
  {
   "cell_type": "code",
   "execution_count": 12,
   "id": "6bb1582c",
   "metadata": {},
   "outputs": [
    {
     "ename": "AttributeError",
     "evalue": "'tuple' object has no attribute 'insert'",
     "output_type": "error",
     "traceback": [
      "\u001b[1;31m---------------------------------------------------------------------------\u001b[0m",
      "\u001b[1;31mAttributeError\u001b[0m                            Traceback (most recent call last)",
      "Input \u001b[1;32mIn [12]\u001b[0m, in \u001b[0;36m<cell line: 2>\u001b[1;34m()\u001b[0m\n\u001b[0;32m      1\u001b[0m ab\u001b[38;5;241m=\u001b[39m(\u001b[38;5;124m\"\u001b[39m\u001b[38;5;124mpooja\u001b[39m\u001b[38;5;124m\"\u001b[39m,\u001b[38;5;124m\"\u001b[39m\u001b[38;5;124mradha\u001b[39m\u001b[38;5;124m\"\u001b[39m,\u001b[38;5;124m\"\u001b[39m\u001b[38;5;124mpriya\u001b[39m\u001b[38;5;124m\"\u001b[39m,\u001b[38;5;124m\"\u001b[39m\u001b[38;5;124mpriti\u001b[39m\u001b[38;5;124m\"\u001b[39m,\u001b[38;5;124m\"\u001b[39m\u001b[38;5;124mrashmi\u001b[39m\u001b[38;5;124m\"\u001b[39m)\n\u001b[1;32m----> 2\u001b[0m \u001b[43mab\u001b[49m\u001b[38;5;241;43m.\u001b[39;49m\u001b[43minsert\u001b[49m(\u001b[38;5;241m2\u001b[39m,\u001b[38;5;124m\"\u001b[39m\u001b[38;5;124mLaptop\u001b[39m\u001b[38;5;124m\"\u001b[39m)\n\u001b[0;32m      3\u001b[0m \u001b[38;5;28mprint\u001b[39m(ab)\n",
      "\u001b[1;31mAttributeError\u001b[0m: 'tuple' object has no attribute 'insert'"
     ]
    }
   ],
   "source": [
    "ab=(\"pooja\",\"radha\",\"priya\",\"priti\",\"rashmi\")\n",
    "ab.insert(2,\"Laptop\")\n",
    "print(ab)"
   ]
  },
  {
   "cell_type": "markdown",
   "id": "634d83f4",
   "metadata": {},
   "source": [
    "## 3.Dictionary {  }"
   ]
  },
  {
   "cell_type": "markdown",
   "id": "18c7ab05",
   "metadata": {},
   "source": [
    " ######              **Dictionaries are used to store data values in key:value pairs.**"
   ]
  },
  {
   "cell_type": "code",
   "execution_count": 13,
   "id": "2eec19b8",
   "metadata": {},
   "outputs": [
    {
     "name": "stdout",
     "output_type": "stream",
     "text": [
      "{'name': 'Josef jojo', 'city': 'pune', 'Mobile no.': '9028937389'}\n",
      "<class 'dict'>\n",
      "3\n"
     ]
    }
   ],
   "source": [
    "info={\"name\":\"Josef jojo\",\n",
    "      \"city\":\"pune\",\n",
    "      \"Mobile no.\":\"9028937389\"  \n",
    "     }\n",
    "print(info)\n",
    "print(type(info))\n",
    "print(len(info))"
   ]
  },
  {
   "cell_type": "code",
   "execution_count": 14,
   "id": "3ba6b2e3",
   "metadata": {},
   "outputs": [
    {
     "ename": "SyntaxError",
     "evalue": "invalid syntax (2731593502.py, line 5)",
     "output_type": "error",
     "traceback": [
      "\u001b[1;36m  Input \u001b[1;32mIn [14]\u001b[1;36m\u001b[0m\n\u001b[1;33m    \"name\":\"abc\"}\u001b[0m\n\u001b[1;37m          ^\u001b[0m\n\u001b[1;31mSyntaxError\u001b[0m\u001b[1;31m:\u001b[0m invalid syntax\n"
     ]
    }
   ],
   "source": [
    " # Dictionary not allow Dublicate Items.\n",
    "info={\"name\":\"Josef jojo\",\n",
    "      \"city\":\"pune\",\n",
    "      \"Mobile no.\":\"9028937389\"\n",
    "      \"name\":\"abc\"}\n",
    "print(info)"
   ]
  },
  {
   "cell_type": "code",
   "execution_count": 15,
   "id": "ce38c6a9",
   "metadata": {},
   "outputs": [
    {
     "name": "stdout",
     "output_type": "stream",
     "text": [
      "{'name': 'Raja Ram shrivastav', 'city': 'Mumbai', 'Mobile no.': '9847283389', 'DOB': [28, 'march', 1995]}\n"
     ]
    }
   ],
   "source": [
    "# This is index & Oder\n",
    "info={\"name\":\"Raja Ram shrivastav\",\n",
    "      \"city\":\"Mumbai\",\n",
    "      \"Mobile no.\":\"9847283389\",\n",
    "      \"DOB\":[28,\"march\",1995]\n",
    "     }\n",
    "print(info)"
   ]
  },
  {
   "cell_type": "code",
   "execution_count": 16,
   "id": "78d54ff4",
   "metadata": {
    "scrolled": true
   },
   "outputs": [
    {
     "name": "stdout",
     "output_type": "stream",
     "text": [
      "{'name': 'Raja Ram', 'city': 'Mumbai', 'Mobile no.': '9847283389', 'Class': '10th'}\n"
     ]
    }
   ],
   "source": [
    "# changable\n",
    "info={\"name\":\"Raja Ram\",\n",
    "      \"city\":\"Mumbai\",\n",
    "      \"Mobile no.\":\"9847283389\"\n",
    "     }\n",
    "info[\"Class\"]=\"10th\"\n",
    "print(info)\n"
   ]
  },
  {
   "cell_type": "code",
   "execution_count": 17,
   "id": "3b4f47b5",
   "metadata": {},
   "outputs": [
    {
     "name": "stdout",
     "output_type": "stream",
     "text": [
      "Raja Ram\n"
     ]
    }
   ],
   "source": [
    "print(info[\"name\"])"
   ]
  },
  {
   "cell_type": "code",
   "execution_count": 18,
   "id": "5f17e145",
   "metadata": {},
   "outputs": [
    {
     "ename": "KeyError",
     "evalue": "'DOB'",
     "output_type": "error",
     "traceback": [
      "\u001b[1;31m---------------------------------------------------------------------------\u001b[0m",
      "\u001b[1;31mKeyError\u001b[0m                                  Traceback (most recent call last)",
      "Input \u001b[1;32mIn [18]\u001b[0m, in \u001b[0;36m<cell line: 1>\u001b[1;34m()\u001b[0m\n\u001b[1;32m----> 1\u001b[0m \u001b[38;5;28mprint\u001b[39m(\u001b[43minfo\u001b[49m\u001b[43m[\u001b[49m\u001b[38;5;124;43m\"\u001b[39;49m\u001b[38;5;124;43mDOB\u001b[39;49m\u001b[38;5;124;43m\"\u001b[39;49m\u001b[43m]\u001b[49m)\n",
      "\u001b[1;31mKeyError\u001b[0m: 'DOB'"
     ]
    }
   ],
   "source": [
    "print(info[\"DOB\"])"
   ]
  },
  {
   "cell_type": "markdown",
   "id": "3d74ffba",
   "metadata": {},
   "source": [
    "## 4.set{  }"
   ]
  },
  {
   "cell_type": "markdown",
   "id": "1d0548fe",
   "metadata": {},
   "source": [
    "######              **Sets are used to store multiple items in a single variable**"
   ]
  },
  {
   "cell_type": "code",
   "execution_count": 19,
   "id": "f9a71c41",
   "metadata": {},
   "outputs": [
    {
     "name": "stdout",
     "output_type": "stream",
     "text": [
      "{'latur', 'pune', 'nashik', 'mumbai'}\n",
      "<class 'set'>\n",
      "4\n"
     ]
    }
   ],
   "source": [
    "city=set()\n",
    "city={\"pune\",\"nashik\",\"latur\",\"mumbai\"}\n",
    "print(city)\n",
    "print(type(city))\n",
    "print(len(city))"
   ]
  },
  {
   "cell_type": "code",
   "execution_count": 20,
   "id": "ecbbd06d",
   "metadata": {},
   "outputs": [
    {
     "name": "stdout",
     "output_type": "stream",
     "text": [
      "{'latur', 'pune', 'nashik', 'mumbai'}\n"
     ]
    }
   ],
   "source": [
    " # Dictionary not allow Dublicate Items.\n",
    "city=set()\n",
    "city={\"pune\",\"nashik\",\"latur\",\"mumbai\",\"latur\"}\n",
    "print(city)"
   ]
  },
  {
   "cell_type": "code",
   "execution_count": 21,
   "id": "7861329f",
   "metadata": {},
   "outputs": [
    {
     "name": "stdout",
     "output_type": "stream",
     "text": [
      "{'latur', 'pune', 'nashik', 'mumbai'}\n"
     ]
    }
   ],
   "source": [
    "# This is Unindex & UnOder\n",
    "city={\"pune\",\"nashik\",\"latur\",\"mumbai\"}\n",
    "print(city)"
   ]
  },
  {
   "cell_type": "code",
   "execution_count": 22,
   "id": "75907445",
   "metadata": {},
   "outputs": [
    {
     "name": "stdout",
     "output_type": "stream",
     "text": [
      "{'latur', 'nashik', 'mumbai'}\n"
     ]
    }
   ],
   "source": [
    "city={\"nashik\",\"latur\",\"mumbai\"}\n",
    "print(city)"
   ]
  },
  {
   "cell_type": "code",
   "execution_count": 23,
   "id": "a0b2afbb",
   "metadata": {},
   "outputs": [
    {
     "name": "stdout",
     "output_type": "stream",
     "text": [
      "{'pune', 'latur', 'mumbai', 'nashik', 'Beed'}\n"
     ]
    }
   ],
   "source": [
    "# changable\n",
    "\n",
    "city={\"pune\",\"nashik\",\"latur\",\"mumbai\"}\n",
    "city.add(\"Beed\")\n",
    "print(city)"
   ]
  },
  {
   "cell_type": "markdown",
   "id": "1e025428",
   "metadata": {},
   "source": [
    "## Python Booleans"
   ]
  },
  {
   "cell_type": "markdown",
   "id": "97741b1a",
   "metadata": {},
   "source": [
    "###### ***Booleans represent one of two values: True or False.****"
   ]
  },
  {
   "cell_type": "code",
   "execution_count": 24,
   "id": "869b657c",
   "metadata": {},
   "outputs": [
    {
     "name": "stdout",
     "output_type": "stream",
     "text": [
      "True\n",
      "False\n",
      "False\n",
      "True\n"
     ]
    }
   ],
   "source": [
    "a=10\n",
    "b=9\n",
    "print(a > b)\n",
    "print(a == b)\n",
    "print(a < b)\n",
    "print(a!=b)"
   ]
  },
  {
   "cell_type": "code",
   "execution_count": 25,
   "id": "258c546f",
   "metadata": {},
   "outputs": [
    {
     "name": "stdout",
     "output_type": "stream",
     "text": [
      "b is not greater than a\n"
     ]
    }
   ],
   "source": [
    "a = 200\n",
    "b = 33\n",
    "\n",
    "if b > a:\n",
    "  print(\"b is greater than a\")\n",
    "else:\n",
    "  print(\"b is not greater than a\")\n"
   ]
  },
  {
   "cell_type": "code",
   "execution_count": 26,
   "id": "701b603e",
   "metadata": {},
   "outputs": [
    {
     "name": "stdout",
     "output_type": "stream",
     "text": [
      "Enter the Value of a:  20\n",
      "Enter the Value of b:  29\n",
      "b is not greater than a\n",
      "-------------------\n",
      "Enter the Value of a:  90\n",
      "Enter the Value of b:  50\n",
      "a is greater than b\n",
      "-------------------\n",
      "Enter the Value of a:  30\n",
      "Enter the Value of b:  30\n",
      "b is not greater than a\n",
      "-------------------\n"
     ]
    }
   ],
   "source": [
    "for x in range (3):\n",
    "    a=int(input(\"Enter the Value of a:  \"))\n",
    "    b=int(input(\"Enter the Value of b:  \"))\n",
    "    if a > b:\n",
    "        print(\"a is greater than b\")\n",
    "        print(\"-------------------\")\n",
    "    else:\n",
    "        print(\"b is not greater than a\")\n",
    "        print(\"-------------------\")\n"
   ]
  },
  {
   "cell_type": "code",
   "execution_count": null,
   "id": "855be8ba",
   "metadata": {},
   "outputs": [],
   "source": []
  },
  {
   "cell_type": "code",
   "execution_count": null,
   "id": "a2f2c3ca",
   "metadata": {},
   "outputs": [],
   "source": []
  }
 ],
 "metadata": {
  "kernelspec": {
   "display_name": "Python 3 (ipykernel)",
   "language": "python",
   "name": "python3"
  },
  "language_info": {
   "codemirror_mode": {
    "name": "ipython",
    "version": 3
   },
   "file_extension": ".py",
   "mimetype": "text/x-python",
   "name": "python",
   "nbconvert_exporter": "python",
   "pygments_lexer": "ipython3",
   "version": "3.9.12"
  }
 },
 "nbformat": 4,
 "nbformat_minor": 5
}
