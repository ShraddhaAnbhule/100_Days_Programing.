{
 "cells": [
  {
   "cell_type": "markdown",
   "id": "d2d4ef87",
   "metadata": {},
   "source": [
    "# If- Else Condition"
   ]
  },
  {
   "cell_type": "code",
   "execution_count": 15,
   "id": "ffbbfacc",
   "metadata": {},
   "outputs": [
    {
     "name": "stdout",
     "output_type": "stream",
     "text": [
      "a is greater than b...\n"
     ]
    }
   ],
   "source": [
    "a=100\n",
    "b=20\n",
    "if a>b:\n",
    "    print(\"a is greater than b...\")\n",
    "else:\n",
    "    print( \"a is smaller than b...\") "
   ]
  },
  {
   "cell_type": "code",
   "execution_count": 19,
   "id": "54c2e2b8",
   "metadata": {},
   "outputs": [
    {
     "name": "stdout",
     "output_type": "stream",
     "text": [
      "Enter the Value of x:- 10\n",
      "Enter the Value of y:- 10\n",
      "Both are same\n"
     ]
    }
   ],
   "source": [
    "x=int(input(\"Enter the Value of x:- \"))\n",
    "y=int(input(\"Enter the Value of y:- \"))\n",
    "if x>y:\n",
    "    print(\"x is greater than y...\")\n",
    "elif x==y:\n",
    "    print(\"Both are same\")\n",
    "    \n",
    "else:\n",
    "    print( \"x is smaller than y...\") \n"
   ]
  },
  {
   "cell_type": "code",
   "execution_count": 3,
   "id": "6f8651a3",
   "metadata": {},
   "outputs": [
    {
     "name": "stdout",
     "output_type": "stream",
     "text": [
      "Enter the Value of x:- 40\n",
      "Enter the Value of y:- 10\n",
      "x is greater than y...\n",
      "________________\n",
      "Enter the Value of x:- 60\n",
      "Enter the Value of y:- 65\n",
      "x is smaller than y...\n",
      "________________\n",
      "Enter the Value of x:- 39\n",
      "Enter the Value of y:- 39\n",
      "Both are same\n",
      "________________\n"
     ]
    }
   ],
   "source": [
    "for x in range(3):\n",
    "    x=int(input(\"Enter the Value of x:- \"))\n",
    "    y=int(input(\"Enter the Value of y:- \"))\n",
    "    if x>y:\n",
    "        print(\"x is greater than y...\")\n",
    "        print(\"________________\")\n",
    "    elif x==y:\n",
    "        print(\"Both are same\") \n",
    "        print(\"________________\")\n",
    "    \n",
    "    else:\n",
    "        print( \"x is smaller than y...\")\n",
    "        print(\"________________\")\n",
    "   \n",
    "\n",
    " \n"
   ]
  },
  {
   "cell_type": "code",
   "execution_count": 2,
   "id": "461ce843",
   "metadata": {},
   "outputs": [
    {
     "name": "stdout",
     "output_type": "stream",
     "text": [
      "Enter the Number: 2\n",
      "Enter the Value ofi x:- 10\n",
      "Enter the Value of y:- 10\n",
      "Both are same\n",
      "________________\n",
      "Enter the Value ofi x:- 20\n",
      "Enter the Value of y:- 60\n",
      "NOT CORRECT...\n",
      "________________\n"
     ]
    }
   ],
   "source": [
    "n=int(input(\"Enter the Number: \"))\n",
    "for x in range(n):\n",
    "    x=int(input(\"Enter the Value of x:- \"))\n",
    "    y=int(input(\"Enter the Value of y:- \"))\n",
    "    if x==y:\n",
    "        print(\"Both are same\") \n",
    "        print(\"________________\")\n",
    "    \n",
    "    else:\n",
    "        print( \"NOT CORRECT...\")\n",
    "        print(\"________________\")\n",
    "   "
   ]
  },
  {
   "cell_type": "code",
   "execution_count": 7,
   "id": "2ff16e40",
   "metadata": {},
   "outputs": [
    {
     "name": "stdout",
     "output_type": "stream",
     "text": [
      "Enter the number: 12\n",
      "Even Number\n",
      "..............\n",
      "Enter the number: 3\n",
      "Odd Number\n",
      "..............\n",
      "Enter the number: 0\n",
      "Even Number\n",
      "..............\n"
     ]
    }
   ],
   "source": [
    "for x in range(3):\n",
    "    a=int(input(\"Enter the number: \"))\n",
    "    if a%2==0:\n",
    "        print(\"Even Number\")\n",
    "        print(\"..............\")\n",
    "    else:\n",
    "        print(\"Odd Number\")\n",
    "        print(\"..............\")\n"
   ]
  },
  {
   "cell_type": "code",
   "execution_count": 9,
   "id": "130aca74",
   "metadata": {},
   "outputs": [
    {
     "name": "stdout",
     "output_type": "stream",
     "text": [
      "Enter first number:45\n",
      "Enter second number:6\n",
      "Not divisible\n",
      "Enter first number:30\n",
      "Enter second number:5\n",
      "Divisible\n"
     ]
    }
   ],
   "source": [
    "for x in range(2):\n",
    "    a=int(input(\"Enter first number:\"))\n",
    "    b=int(input(\"Enter second number:\"))\n",
    "    if a%b==0:\n",
    "        print(\"Divisible\")\n",
    "    else:\n",
    "        print(\"Not divisible\")"
   ]
  },
  {
   "cell_type": "code",
   "execution_count": 3,
   "id": "4c07b4e8",
   "metadata": {},
   "outputs": [
    {
     "name": "stdout",
     "output_type": "stream",
     "text": [
      "Enter the N value::3\n",
      "Enter the city name:pune\n",
      "Invalid city name\n",
      "----------------------\n",
      "Enter the city name:Beed\n",
      "Invalid city name\n",
      "----------------------\n",
      "Enter the city name:Pune, Satara\n",
      "Invalid city name\n",
      "----------------------\n"
     ]
    }
   ],
   "source": [
    "city=[\"Pune\",\"Satara\",\"Mumbai\"]\n",
    "n=int(input(\"Enter the N value::\"))\n",
    "for i in range(n):\n",
    "    a=input(\"Enter the city name:\")\n",
    "    for x in city:\n",
    "        if a==x:\n",
    "            print(\"welcome to\",a)\n",
    "            print(\"-------------------\")\n",
    "            break\n",
    "    else:\n",
    "        print(\"Invalid city name\")\n",
    "        print(\"----------------------\")"
   ]
  },
  {
   "cell_type": "code",
   "execution_count": null,
   "id": "f2b10a0e",
   "metadata": {},
   "outputs": [],
   "source": []
  },
  {
   "cell_type": "code",
   "execution_count": null,
   "id": "c1e31125",
   "metadata": {},
   "outputs": [],
   "source": []
  }
 ],
 "metadata": {
  "kernelspec": {
   "display_name": "Python 3 (ipykernel)",
   "language": "python",
   "name": "python3"
  },
  "language_info": {
   "codemirror_mode": {
    "name": "ipython",
    "version": 3
   },
   "file_extension": ".py",
   "mimetype": "text/x-python",
   "name": "python",
   "nbconvert_exporter": "python",
   "pygments_lexer": "ipython3",
   "version": "3.9.12"
  }
 },
 "nbformat": 4,
 "nbformat_minor": 5
}
