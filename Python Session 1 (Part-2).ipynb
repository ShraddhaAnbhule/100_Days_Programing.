{
 "cells": [
  {
   "cell_type": "markdown",
   "id": "606641b1",
   "metadata": {},
   "source": [
    "# Python Slicing"
   ]
  },
  {
   "cell_type": "code",
   "execution_count": 23,
   "id": "6d06d5c0",
   "metadata": {},
   "outputs": [],
   "source": [
    "# positive indexes"
   ]
  },
  {
   "cell_type": "code",
   "execution_count": 24,
   "id": "10576f16",
   "metadata": {},
   "outputs": [
    {
     "name": "stdout",
     "output_type": "stream",
     "text": [
      "['pooja', 'priti', 'neha', 'radha', 'sakshi', 'komal']\n",
      "['pooja', 'priti', 'neha']\n"
     ]
    }
   ],
   "source": [
    "Name=[\"pooja\",\"priti\",\"neha\",\"radha\",\"sakshi\",\"komal\"]\n",
    "print(Name)\n",
    "print(Name[0:3])\n"
   ]
  },
  {
   "cell_type": "code",
   "execution_count": 2,
   "id": "1285068c",
   "metadata": {},
   "outputs": [
    {
     "name": "stdout",
     "output_type": "stream",
     "text": [
      "['pooja', 'priti', 'neha', 'radha', 'sakshi', 'komal']\n"
     ]
    }
   ],
   "source": [
    "print(Name[:6])"
   ]
  },
  {
   "cell_type": "code",
   "execution_count": 3,
   "id": "b040dd6a",
   "metadata": {},
   "outputs": [
    {
     "name": "stdout",
     "output_type": "stream",
     "text": [
      "['sakshi', 'komal']\n"
     ]
    }
   ],
   "source": [
    "print(Name[4:])"
   ]
  },
  {
   "cell_type": "code",
   "execution_count": null,
   "id": "12ace6ab",
   "metadata": {},
   "outputs": [],
   "source": [
    "# Negative indexes"
   ]
  },
  {
   "cell_type": "code",
   "execution_count": 28,
   "id": "ba0fdcf8",
   "metadata": {},
   "outputs": [
    {
     "name": "stdout",
     "output_type": "stream",
     "text": [
      "['pooja', 'priti', 'neha', 'radha', 'sakshi']\n"
     ]
    }
   ],
   "source": [
    "print(Name[0:-1])"
   ]
  },
  {
   "cell_type": "code",
   "execution_count": 6,
   "id": "a36c8c40",
   "metadata": {},
   "outputs": [
    {
     "name": "stdout",
     "output_type": "stream",
     "text": [
      "['neha', 'radha', 'sakshi']\n"
     ]
    }
   ],
   "source": [
    "print(Name[-4:-1])"
   ]
  },
  {
   "cell_type": "code",
   "execution_count": 29,
   "id": "ac0932c3",
   "metadata": {},
   "outputs": [],
   "source": [
    "#Example with string"
   ]
  },
  {
   "cell_type": "code",
   "execution_count": 13,
   "id": "0aa6df71",
   "metadata": {},
   "outputs": [
    {
     "name": "stdout",
     "output_type": "stream",
     "text": [
      "INDIA IS MY COUNTRY:   INDIA\n"
     ]
    }
   ],
   "source": [
    "a=(\"INDIA IS MY COUNTRY\")\n",
    "ab=a[0:5]\n",
    "# print(a)\n",
    "print(\"INDIA IS MY COUNTRY:  \",ab)"
   ]
  },
  {
   "cell_type": "code",
   "execution_count": 14,
   "id": "66aa1e19",
   "metadata": {},
   "outputs": [
    {
     "name": "stdout",
     "output_type": "stream",
     "text": [
      "INDIA IS MY COUNTRY:   IS\n"
     ]
    }
   ],
   "source": [
    "a=(\"INDIA IS MY COUNTRY\")\n",
    "ab=a[6:8]\n",
    "print(\"INDIA IS MY COUNTRY:  \",ab)"
   ]
  },
  {
   "cell_type": "code",
   "execution_count": 15,
   "id": "60ddde8e",
   "metadata": {},
   "outputs": [
    {
     "name": "stdout",
     "output_type": "stream",
     "text": [
      "INDIA IS MY COUNTRY:   MY\n"
     ]
    }
   ],
   "source": [
    "a=(\"INDIA IS MY COUNTRY\")\n",
    "ab=a[9:11]\n",
    "print(\"INDIA IS MY COUNTRY:  \",ab)"
   ]
  },
  {
   "cell_type": "code",
   "execution_count": 30,
   "id": "e38e2a7a",
   "metadata": {},
   "outputs": [
    {
     "name": "stdout",
     "output_type": "stream",
     "text": [
      "INDIA IS MY COUNTRY:   COUNTRY\n"
     ]
    }
   ],
   "source": [
    "a=(\"INDIA IS MY COUNTRY\")\n",
    "ab=a[12:]\n",
    "print(\"INDIA IS MY COUNTRY:  \",ab)"
   ]
  },
  {
   "cell_type": "code",
   "execution_count": 31,
   "id": "c8cbc97b",
   "metadata": {},
   "outputs": [],
   "source": [
    "# Example with List\n"
   ]
  },
  {
   "cell_type": "code",
   "execution_count": 19,
   "id": "685dfdfe",
   "metadata": {},
   "outputs": [
    {
     "name": "stdout",
     "output_type": "stream",
     "text": [
      "20\n"
     ]
    }
   ],
   "source": [
    "num=[\"20\",\"30\",\"40\",\"50\"]\n",
    "print(num[0])"
   ]
  },
  {
   "cell_type": "code",
   "execution_count": 20,
   "id": "f6b1224a",
   "metadata": {},
   "outputs": [
    {
     "name": "stdout",
     "output_type": "stream",
     "text": [
      "50\n"
     ]
    }
   ],
   "source": [
    "num=[\"20\",\"30\",\"40\",\"50\"]\n",
    "print(num[-1])"
   ]
  },
  {
   "cell_type": "code",
   "execution_count": 21,
   "id": "3060587d",
   "metadata": {},
   "outputs": [
    {
     "name": "stdout",
     "output_type": "stream",
     "text": [
      "['30', '50']\n"
     ]
    }
   ],
   "source": [
    "num=[\"20\",\"30\",\"40\",\"50\"]\n",
    "print(num[1:4:2])"
   ]
  },
  {
   "cell_type": "code",
   "execution_count": 22,
   "id": "b565821c",
   "metadata": {},
   "outputs": [
    {
     "name": "stdout",
     "output_type": "stream",
     "text": [
      "['20', '40']\n"
     ]
    }
   ],
   "source": [
    "num=[\"20\",\"30\",\"40\",\"50\"]\n",
    "print(num[0:3:2])"
   ]
  },
  {
   "cell_type": "code",
   "execution_count": 35,
   "id": "f89c6568",
   "metadata": {
    "scrolled": true
   },
   "outputs": [
    {
     "name": "stdout",
     "output_type": "stream",
     "text": [
      "Original List:   [1, 2, 3, 4, 5, 6, 7, 8, 9]\n",
      "Sliced Lists: \n",
      "[1, 2, 3, 8, 9]\n",
      "[1, 3, 5, 7, 9, 2, 4, 6, 8]\n"
     ]
    }
   ],
   "source": [
    "List = [1, 2, 3, 4, 5, 6, 7, 8, 9]\n",
    " \n",
    "# Show original list\n",
    "print(\"Original List:  \", List)\n",
    " \n",
    "print(\"Sliced Lists: \")\n",
    " \n",
    "# Creating new List\n",
    "newList = List[:3]+List[7:]\n",
    " \n",
    "# Display sliced list\n",
    "print(newList)\n",
    " \n",
    "# Changing existing List\n",
    "List = List[::2]+List[1::2]\n",
    " \n",
    "# Display sliced list\n",
    "print(List)"
   ]
  },
  {
   "cell_type": "code",
   "execution_count": 32,
   "id": "afa58363",
   "metadata": {},
   "outputs": [
    {
     "name": "stdout",
     "output_type": "stream",
     "text": [
      "-----Thank You-------\n"
     ]
    }
   ],
   "source": [
    "print(\"-----Thank You-------\")"
   ]
  },
  {
   "cell_type": "code",
   "execution_count": null,
   "id": "4f4897af",
   "metadata": {},
   "outputs": [],
   "source": []
  }
 ],
 "metadata": {
  "kernelspec": {
   "display_name": "Python 3 (ipykernel)",
   "language": "python",
   "name": "python3"
  },
  "language_info": {
   "codemirror_mode": {
    "name": "ipython",
    "version": 3
   },
   "file_extension": ".py",
   "mimetype": "text/x-python",
   "name": "python",
   "nbconvert_exporter": "python",
   "pygments_lexer": "ipython3",
   "version": "3.9.12"
  }
 },
 "nbformat": 4,
 "nbformat_minor": 5
}
